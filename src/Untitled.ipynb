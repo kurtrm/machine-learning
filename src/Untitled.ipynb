{
 "cells": [
  {
   "cell_type": "code",
   "execution_count": 1,
   "metadata": {},
   "outputs": [],
   "source": [
    "import pandas as pd\n",
    "import numpy as np\n",
    "from decision_tree import DecisionTree"
   ]
  },
  {
   "cell_type": "code",
   "execution_count": 2,
   "metadata": {},
   "outputs": [],
   "source": [
    "golf = [{\"outlook\": \"Rainy\", \"temp\": \"Hot\", \"humidity\": \"High\", \"windy\": False, \"golf\": False},\n",
    " {\"outlook\": \"Rainy\", \"temp\": \"Hot\", \"humidity\": \"High\", \"windy\": True, \"golf\": False},\n",
    " {\"outlook\": \"Overcast\", \"temp\": \"Hot\", \"humidity\": \"High\", \"windy\": False, \"golf\": True},\n",
    " {\"outlook\": \"Sunny\", \"temp\": \"mild\", \"humidity\": \"High\", \"windy\": False, \"golf\": True},\n",
    " {\"outlook\": \"Sunny\", \"temp\": \"Cool\", \"humidity\": \"Normal\", \"windy\": False, \"golf\": True},\n",
    " {\"outlook\": \"Sunny\", \"temp\": \"Cool\", \"humidity\": \"Normal\", \"windy\": True, \"golf\": False},\n",
    " {\"outlook\": \"Overcast\", \"temp\": \"Cool\", \"humidity\": \"Normal\", \"windy\": True, \"golf\": True},\n",
    " {\"outlook\": \"Rainy\", \"temp\": \"mild\", \"humidity\": \"High\", \"windy\": False, \"golf\": False},\n",
    " {\"outlook\": \"Rainy\", \"temp\": \"Cool\", \"humidity\": \"Normal\", \"windy\": False, \"golf\": True},\n",
    " {\"outlook\": \"Sunny\", \"temp\": \"mild\", \"humidity\": \"Normal\", \"windy\": False, \"golf\": True},\n",
    " {\"outlook\": \"Rainy\", \"temp\": \"mild\", \"humidity\": \"Normal\", \"windy\": True, \"golf\": True},\n",
    " {\"outlook\": \"Overcast\", \"temp\": \"mild\", \"humidity\": \"High\", \"windy\": True, \"golf\": True},\n",
    " {\"outlook\": \"Overcast\", \"temp\": \"Hot\", \"humidity\": \"Normal\", \"windy\": False, \"golf\": True},\n",
    " {\"outlook\": \"Sunny\", \"temp\": \"mild\", \"humidity\": \"High\", \"windy\": True, \"golf\": False}\n",
    "]\n",
    "\n",
    "golf = pd.DataFrame(golf)"
   ]
  },
  {
   "cell_type": "code",
   "execution_count": null,
   "metadata": {},
   "outputs": [],
   "source": [
    "tree = DecisionTree(data=golf)"
   ]
  },
  {
   "cell_type": "code",
   "execution_count": null,
   "metadata": {},
   "outputs": [
    {
     "name": "stdout",
     "output_type": "stream",
     "text": [
      "> d:\\kurt\\projects\\machine-learning\\src\\decision_tree.py(58)information_gain()\n",
      "-> set_entropy = self.entropy(self.class_probabilities(root_node))\n",
      "(Pdb) n\n",
      "> d:\\kurt\\projects\\machine-learning\\src\\decision_tree.py(59)information_gain()\n",
      "-> attribute_proportion = self.class_probabilities(candidate_node)\n",
      "(Pdb) n\n",
      "> d:\\kurt\\projects\\machine-learning\\src\\decision_tree.py(60)information_gain()\n",
      "-> class_proportion = self.class_probabilities(candidate_node, target)\n",
      "(Pdb) n\n",
      "> d:\\kurt\\projects\\machine-learning\\src\\decision_tree.py(61)information_gain()\n",
      "-> return set_entropy - sum(attribute_proportion * self.entropy(prop.values)\n",
      "(Pdb) attribute_proportion\n",
      "Overcast    0.285714\n",
      "Rainy       0.357143\n",
      "Sunny       0.357143\n",
      "Name: outlook, dtype: float64\n",
      "(Pdb) attribute_proportion\n",
      "Overcast    0.285714\n",
      "Rainy       0.357143\n",
      "Sunny       0.357143\n",
      "Name: outlook, dtype: float64\n",
      "(Pdb) class_proportion\n",
      "[0.0    0.6\n",
      "1.0    0.4\n",
      "Name: golf, dtype: float64, 1.0    1.0\n",
      "Name: golf, dtype: float64, 1.0    0.6\n",
      "0.0    0.4\n",
      "Name: golf, dtype: float64]\n"
     ]
    }
   ],
   "source": [
    "tree.information_gain('golf', 'outlook', 'golf')"
   ]
  },
  {
   "cell_type": "code",
   "execution_count": null,
   "metadata": {
    "collapsed": true
   },
   "outputs": [],
   "source": []
  },
  {
   "cell_type": "code",
   "execution_count": null,
   "metadata": {
    "collapsed": true
   },
   "outputs": [],
   "source": []
  }
 ],
 "metadata": {
  "kernelspec": {
   "display_name": "Python 3",
   "language": "python",
   "name": "python3"
  },
  "language_info": {
   "codemirror_mode": {
    "name": "ipython",
    "version": 3
   },
   "file_extension": ".py",
   "mimetype": "text/x-python",
   "name": "python",
   "nbconvert_exporter": "python",
   "pygments_lexer": "ipython3",
   "version": "3.6.1"
  }
 },
 "nbformat": 4,
 "nbformat_minor": 2
}
