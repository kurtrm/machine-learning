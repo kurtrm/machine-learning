{
 "cells": [
  {
   "cell_type": "code",
   "execution_count": 1,
   "metadata": {
    "collapsed": true
   },
   "outputs": [],
   "source": [
    "import pandas as pd\n",
    "import numpy as np\n",
    "from decision_tree import DecisionTree"
   ]
  },
  {
   "cell_type": "code",
   "execution_count": 2,
   "metadata": {
    "collapsed": true
   },
   "outputs": [],
   "source": [
    "golf = [{\"outlook\": \"Rainy\", \"temp\": \"Hot\", \"humidity\": \"High\", \"windy\": False, \"golf\": False},\n",
    " {\"outlook\": \"Rainy\", \"temp\": \"Hot\", \"humidity\": \"High\", \"windy\": True, \"golf\": False},\n",
    " {\"outlook\": \"Overcast\", \"temp\": \"Hot\", \"humidity\": \"High\", \"windy\": False, \"golf\": True},\n",
    " {\"outlook\": \"Sunny\", \"temp\": \"mild\", \"humidity\": \"High\", \"windy\": False, \"golf\": True},\n",
    " {\"outlook\": \"Sunny\", \"temp\": \"Cool\", \"humidity\": \"Normal\", \"windy\": False, \"golf\": True},\n",
    " {\"outlook\": \"Sunny\", \"temp\": \"Cool\", \"humidity\": \"Normal\", \"windy\": True, \"golf\": False},\n",
    " {\"outlook\": \"Overcast\", \"temp\": \"Cool\", \"humidity\": \"Normal\", \"windy\": True, \"golf\": True},\n",
    " {\"outlook\": \"Rainy\", \"temp\": \"mild\", \"humidity\": \"High\", \"windy\": False, \"golf\": False},\n",
    " {\"outlook\": \"Rainy\", \"temp\": \"Cool\", \"humidity\": \"Normal\", \"windy\": False, \"golf\": True},\n",
    " {\"outlook\": \"Sunny\", \"temp\": \"mild\", \"humidity\": \"Normal\", \"windy\": False, \"golf\": True},\n",
    " {\"outlook\": \"Rainy\", \"temp\": \"mild\", \"humidity\": \"Normal\", \"windy\": True, \"golf\": True},\n",
    " {\"outlook\": \"Overcast\", \"temp\": \"mild\", \"humidity\": \"High\", \"windy\": True, \"golf\": True},\n",
    " {\"outlook\": \"Overcast\", \"temp\": \"Hot\", \"humidity\": \"Normal\", \"windy\": False, \"golf\": True},\n",
    " {\"outlook\": \"Sunny\", \"temp\": \"mild\", \"humidity\": \"High\", \"windy\": True, \"golf\": False}\n",
    "]\n",
    "\n",
    "golf = pd.DataFrame(golf)"
   ]
  },
  {
   "cell_type": "code",
   "execution_count": 3,
   "metadata": {
    "collapsed": true
   },
   "outputs": [],
   "source": [
    "tree = DecisionTree(data=golf)"
   ]
  },
  {
   "cell_type": "code",
   "execution_count": 4,
   "metadata": {},
   "outputs": [
    {
     "name": "stdout",
     "output_type": "stream",
     "text": [
      "> d:\\kurt\\projects\\machine-learning\\src\\decision_tree.py(58)information_gain()\n",
      "-> set_entropy = self.entropy(self.class_probabilities(root_node))\n",
      "(Pdb) c\n"
     ]
    },
    {
     "data": {
      "text/plain": [
       "Rainy       0.246750\n",
       "Sunny       0.246750\n",
       "Overcast    0.385457\n",
       "Name: outlook, dtype: float64"
      ]
     },
     "execution_count": 4,
     "metadata": {},
     "output_type": "execute_result"
    }
   ],
   "source": [
    "tree.information_gain('golf', 'outlook', 'golf')"
   ]
  },
  {
   "cell_type": "code",
   "execution_count": 25,
   "metadata": {},
   "outputs": [],
   "source": [
    "truths = tree.data['outlook'].where(tree.data['golf'] == True).value_counts()\n",
    "falses = tree.data['outlook'].where(tree.data['golf'] == False).value_counts()"
   ]
  },
  {
   "cell_type": "code",
   "execution_count": 48,
   "metadata": {},
   "outputs": [
    {
     "data": {
      "text/html": [
       "<div>\n",
       "<style>\n",
       "    .dataframe thead tr:only-child th {\n",
       "        text-align: right;\n",
       "    }\n",
       "\n",
       "    .dataframe thead th {\n",
       "        text-align: left;\n",
       "    }\n",
       "\n",
       "    .dataframe tbody tr th {\n",
       "        vertical-align: top;\n",
       "    }\n",
       "</style>\n",
       "<table border=\"1\" class=\"dataframe\">\n",
       "  <thead>\n",
       "    <tr style=\"text-align: right;\">\n",
       "      <th></th>\n",
       "      <th></th>\n",
       "    </tr>\n",
       "    <tr>\n",
       "      <th>outlook</th>\n",
       "      <th>golf</th>\n",
       "    </tr>\n",
       "  </thead>\n",
       "  <tbody>\n",
       "    <tr>\n",
       "      <th>Overcast</th>\n",
       "      <th>True</th>\n",
       "    </tr>\n",
       "    <tr>\n",
       "      <th rowspan=\"2\" valign=\"top\">Rainy</th>\n",
       "      <th>False</th>\n",
       "    </tr>\n",
       "    <tr>\n",
       "      <th>True</th>\n",
       "    </tr>\n",
       "    <tr>\n",
       "      <th rowspan=\"2\" valign=\"top\">Sunny</th>\n",
       "      <th>False</th>\n",
       "    </tr>\n",
       "    <tr>\n",
       "      <th>True</th>\n",
       "    </tr>\n",
       "  </tbody>\n",
       "</table>\n",
       "</div>"
      ],
      "text/plain": [
       "Empty DataFrame\n",
       "Columns: []\n",
       "Index: [(Overcast, True), (Rainy, False), (Rainy, True), (Sunny, False), (Sunny, True)]"
      ]
     },
     "execution_count": 48,
     "metadata": {},
     "output_type": "execute_result"
    }
   ],
   "source": [
    "tree.data[['outlook', 'golf']].groupby(['outlook', 'golf']).count()"
   ]
  },
  {
   "cell_type": "code",
   "execution_count": 82,
   "metadata": {},
   "outputs": [],
   "source": [
    "treer = tree.data.groupby(['outlook', 'golf']).count()"
   ]
  },
  {
   "cell_type": "code",
   "execution_count": 83,
   "metadata": {},
   "outputs": [
    {
     "data": {
      "text/plain": [
       "Index(['humidity', 'temp', 'windy', 'True'], dtype='object')"
      ]
     },
     "execution_count": 83,
     "metadata": {},
     "output_type": "execute_result"
    }
   ],
   "source": [
    "treer.columns"
   ]
  },
  {
   "cell_type": "code",
   "execution_count": 75,
   "metadata": {},
   "outputs": [
    {
     "data": {
      "text/html": [
       "<div>\n",
       "<style>\n",
       "    .dataframe thead tr:only-child th {\n",
       "        text-align: right;\n",
       "    }\n",
       "\n",
       "    .dataframe thead th {\n",
       "        text-align: left;\n",
       "    }\n",
       "\n",
       "    .dataframe tbody tr th {\n",
       "        vertical-align: top;\n",
       "    }\n",
       "</style>\n",
       "<table border=\"1\" class=\"dataframe\">\n",
       "  <thead>\n",
       "    <tr style=\"text-align: right;\">\n",
       "      <th></th>\n",
       "      <th>outlook</th>\n",
       "      <th>golf</th>\n",
       "    </tr>\n",
       "  </thead>\n",
       "  <tbody>\n",
       "    <tr>\n",
       "      <th>0</th>\n",
       "      <td>Rainy</td>\n",
       "      <td>False</td>\n",
       "    </tr>\n",
       "    <tr>\n",
       "      <th>1</th>\n",
       "      <td>Rainy</td>\n",
       "      <td>False</td>\n",
       "    </tr>\n",
       "    <tr>\n",
       "      <th>2</th>\n",
       "      <td>Overcast</td>\n",
       "      <td>True</td>\n",
       "    </tr>\n",
       "    <tr>\n",
       "      <th>3</th>\n",
       "      <td>Sunny</td>\n",
       "      <td>True</td>\n",
       "    </tr>\n",
       "    <tr>\n",
       "      <th>4</th>\n",
       "      <td>Sunny</td>\n",
       "      <td>True</td>\n",
       "    </tr>\n",
       "    <tr>\n",
       "      <th>5</th>\n",
       "      <td>Sunny</td>\n",
       "      <td>False</td>\n",
       "    </tr>\n",
       "    <tr>\n",
       "      <th>6</th>\n",
       "      <td>Overcast</td>\n",
       "      <td>True</td>\n",
       "    </tr>\n",
       "    <tr>\n",
       "      <th>7</th>\n",
       "      <td>Rainy</td>\n",
       "      <td>False</td>\n",
       "    </tr>\n",
       "    <tr>\n",
       "      <th>8</th>\n",
       "      <td>Rainy</td>\n",
       "      <td>True</td>\n",
       "    </tr>\n",
       "    <tr>\n",
       "      <th>9</th>\n",
       "      <td>Sunny</td>\n",
       "      <td>True</td>\n",
       "    </tr>\n",
       "    <tr>\n",
       "      <th>10</th>\n",
       "      <td>Rainy</td>\n",
       "      <td>True</td>\n",
       "    </tr>\n",
       "    <tr>\n",
       "      <th>11</th>\n",
       "      <td>Overcast</td>\n",
       "      <td>True</td>\n",
       "    </tr>\n",
       "    <tr>\n",
       "      <th>12</th>\n",
       "      <td>Overcast</td>\n",
       "      <td>True</td>\n",
       "    </tr>\n",
       "    <tr>\n",
       "      <th>13</th>\n",
       "      <td>Sunny</td>\n",
       "      <td>False</td>\n",
       "    </tr>\n",
       "  </tbody>\n",
       "</table>\n",
       "</div>"
      ],
      "text/plain": [
       "     outlook   golf\n",
       "0      Rainy  False\n",
       "1      Rainy  False\n",
       "2   Overcast   True\n",
       "3      Sunny   True\n",
       "4      Sunny   True\n",
       "5      Sunny  False\n",
       "6   Overcast   True\n",
       "7      Rainy  False\n",
       "8      Rainy   True\n",
       "9      Sunny   True\n",
       "10     Rainy   True\n",
       "11  Overcast   True\n",
       "12  Overcast   True\n",
       "13     Sunny  False"
      ]
     },
     "execution_count": 75,
     "metadata": {},
     "output_type": "execute_result"
    }
   ],
   "source": [
    "treer"
   ]
  },
  {
   "cell_type": "code",
   "execution_count": null,
   "metadata": {
    "collapsed": true
   },
   "outputs": [],
   "source": []
  }
 ],
 "metadata": {
  "kernelspec": {
   "display_name": "Python 3",
   "language": "python",
   "name": "python3"
  },
  "language_info": {
   "codemirror_mode": {
    "name": "ipython",
    "version": 3
   },
   "file_extension": ".py",
   "mimetype": "text/x-python",
   "name": "python",
   "nbconvert_exporter": "python",
   "pygments_lexer": "ipython3",
   "version": "3.6.1"
  }
 },
 "nbformat": 4,
 "nbformat_minor": 2
}
