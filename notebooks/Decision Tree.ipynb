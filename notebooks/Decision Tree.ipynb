{
 "cells": [
  {
   "cell_type": "code",
   "execution_count": 1,
   "metadata": {
    "collapsed": true
   },
   "outputs": [],
   "source": [
    "import numpy as np\n",
    "import pandas as pd\n",
    "import matplotlib.pyplot as plt"
   ]
  },
  {
   "cell_type": "markdown",
   "metadata": {},
   "source": [
    "Some notes on my terminology:\n",
    "\n",
    "- A probability is the proportion of a given column label to the total number of columns."
   ]
  },
  {
   "cell_type": "code",
   "execution_count": 2,
   "metadata": {
    "collapsed": true
   },
   "outputs": [],
   "source": [
    "def entropy(probabilities):\n",
    "    entropy = np.sum(-p * np.log2(p) for p in probabilities if p)\n",
    "    return entropy\n",
    "    "
   ]
  },
  {
   "cell_type": "code",
   "execution_count": 3,
   "metadata": {
    "collapsed": true
   },
   "outputs": [],
   "source": [
    "# def entropy(probabilities):\n",
    "#     \"\"\"Return the entropy for a given class.\"\"\"\n",
    "#     return [-p[0] * np.log2(p[0]) - (p[1]) * np.log2(p[1]) for p in probabilities]"
   ]
  },
  {
   "cell_type": "code",
   "execution_count": 4,
   "metadata": {
    "collapsed": true
   },
   "outputs": [],
   "source": [
    "def class_probabilities(table):\n",
    "    \"\"\"Returns the p for each column\"\"\"\n",
    "    return [table[column].value_counts(normalize=True).values for column in table]\n",
    "    "
   ]
  },
  {
   "cell_type": "code",
   "execution_count": 5,
   "metadata": {},
   "outputs": [
    {
     "data": {
      "image/png": "[encoded data removed]",
      "text/plain": [
       "<matplotlib.figure.Figure at 0x2326469b5f8>"
      ]
     },
     "metadata": {},
     "output_type": "display_data"
    }
   ],
   "source": [
    "x = np.linspace(0.001, 0.999)\n",
    "y = -x * np.log2(x) - (1 - x) * np.log2(1 - x)\n",
    "plt.plot(x, y)\n",
    "plt.show()"
   ]
  },
  {
   "cell_type": "markdown",
   "metadata": {},
   "source": [
    "The following list of dictionaries is a common data set used in the explanation of decision trees and the ID3 algorithm."
   ]
  },
  {
   "cell_type": "code",
   "execution_count": 6,
   "metadata": {},
   "outputs": [],
   "source": [
    "golf = [{\"outlook\": \"Rainy\", \"temp\": \"Hot\", \"humidity\": \"High\", \"windy\": False, \"golf\": False},\n",
    " {\"outlook\": \"Rainy\", \"temp\": \"Hot\", \"humidity\": \"High\", \"windy\": True, \"golf\": False},\n",
    " {\"outlook\": \"Overcast\", \"temp\": \"Hot\", \"humidity\": \"High\", \"windy\": False, \"golf\": True},\n",
    " {\"outlook\": \"Sunny\", \"temp\": \"mild\", \"humidity\": \"High\", \"windy\": False, \"golf\": True},\n",
    " {\"outlook\": \"Sunny\", \"temp\": \"Cool\", \"humidity\": \"Normal\", \"windy\": False, \"golf\": True},\n",
    " {\"outlook\": \"Sunny\", \"temp\": \"Cool\", \"humidity\": \"Normal\", \"windy\": True, \"golf\": False},\n",
    " {\"outlook\": \"Overcast\", \"temp\": \"Cool\", \"humidity\": \"Normal\", \"windy\": True, \"golf\": True},\n",
    " {\"outlook\": \"Rainy\", \"temp\": \"mild\", \"humidity\": \"High\", \"windy\": False, \"golf\": False},\n",
    " {\"outlook\": \"Rainy\", \"temp\": \"Cool\", \"humidity\": \"Normal\", \"windy\": False, \"golf\": True},\n",
    " {\"outlook\": \"Sunny\", \"temp\": \"mild\", \"humidity\": \"Normal\", \"windy\": False, \"golf\": True},\n",
    " {\"outlook\": \"Rainy\", \"temp\": \"mild\", \"humidity\": \"Normal\", \"windy\": True, \"golf\": True},\n",
    " {\"outlook\": \"Overcast\", \"temp\": \"mild\", \"humidity\": \"High\", \"windy\": True, \"golf\": True},\n",
    " {\"outlook\": \"Overcast\", \"temp\": \"Hot\", \"humidity\": \"Normal\", \"windy\": False, \"golf\": True},\n",
    " {\"outlook\": \"Sunny\", \"temp\": \"mild\", \"humidity\": \"High\", \"windy\": True, \"golf\": False}\n",
    "]\n",
    "\n",
    "golf = pd.DataFrame(golf)"
   ]
  },
  {
   "cell_type": "code",
   "execution_count": 7,
   "metadata": {
    "scrolled": true
   },
   "outputs": [
    {
     "data": {
      "text/plain": [
       "type"
      ]
     },
     "execution_count": 7,
     "metadata": {},
     "output_type": "execute_result"
    }
   ],
   "source": [
    "type(type(golf))"
   ]
  },
  {
   "cell_type": "code",
   "execution_count": 8,
   "metadata": {
    "scrolled": true
   },
   "outputs": [
    {
     "data": {
      "text/html": [
       "<div>\n",
       "<style>\n",
       "    .dataframe thead tr:only-child th {\n",
       "        text-align: right;\n",
       "    }\n",
       "\n",
       "    .dataframe thead th {\n",
       "        text-align: left;\n",
       "    }\n",
       "\n",
       "    .dataframe tbody tr th {\n",
       "        vertical-align: top;\n",
       "    }\n",
       "</style>\n",
       "<table border=\"1\" class=\"dataframe\">\n",
       "  <thead>\n",
       "    <tr style=\"text-align: right;\">\n",
       "      <th></th>\n",
       "      <th>outlook</th>\n",
       "      <th>golf</th>\n",
       "    </tr>\n",
       "  </thead>\n",
       "  <tbody>\n",
       "    <tr>\n",
       "      <th>0</th>\n",
       "      <td>Rainy</td>\n",
       "      <td>False</td>\n",
       "    </tr>\n",
       "    <tr>\n",
       "      <th>1</th>\n",
       "      <td>Rainy</td>\n",
       "      <td>False</td>\n",
       "    </tr>\n",
       "    <tr>\n",
       "      <th>2</th>\n",
       "      <td>Overcast</td>\n",
       "      <td>True</td>\n",
       "    </tr>\n",
       "    <tr>\n",
       "      <th>3</th>\n",
       "      <td>Sunny</td>\n",
       "      <td>True</td>\n",
       "    </tr>\n",
       "    <tr>\n",
       "      <th>4</th>\n",
       "      <td>Sunny</td>\n",
       "      <td>True</td>\n",
       "    </tr>\n",
       "    <tr>\n",
       "      <th>5</th>\n",
       "      <td>Sunny</td>\n",
       "      <td>False</td>\n",
       "    </tr>\n",
       "    <tr>\n",
       "      <th>6</th>\n",
       "      <td>Overcast</td>\n",
       "      <td>True</td>\n",
       "    </tr>\n",
       "    <tr>\n",
       "      <th>7</th>\n",
       "      <td>Rainy</td>\n",
       "      <td>False</td>\n",
       "    </tr>\n",
       "    <tr>\n",
       "      <th>8</th>\n",
       "      <td>Rainy</td>\n",
       "      <td>True</td>\n",
       "    </tr>\n",
       "    <tr>\n",
       "      <th>9</th>\n",
       "      <td>Sunny</td>\n",
       "      <td>True</td>\n",
       "    </tr>\n",
       "    <tr>\n",
       "      <th>10</th>\n",
       "      <td>Rainy</td>\n",
       "      <td>True</td>\n",
       "    </tr>\n",
       "    <tr>\n",
       "      <th>11</th>\n",
       "      <td>Overcast</td>\n",
       "      <td>True</td>\n",
       "    </tr>\n",
       "    <tr>\n",
       "      <th>12</th>\n",
       "      <td>Overcast</td>\n",
       "      <td>True</td>\n",
       "    </tr>\n",
       "    <tr>\n",
       "      <th>13</th>\n",
       "      <td>Sunny</td>\n",
       "      <td>False</td>\n",
       "    </tr>\n",
       "  </tbody>\n",
       "</table>\n",
       "</div>"
      ],
      "text/plain": [
       "     outlook   golf\n",
       "0      Rainy  False\n",
       "1      Rainy  False\n",
       "2   Overcast   True\n",
       "3      Sunny   True\n",
       "4      Sunny   True\n",
       "5      Sunny  False\n",
       "6   Overcast   True\n",
       "7      Rainy  False\n",
       "8      Rainy   True\n",
       "9      Sunny   True\n",
       "10     Rainy   True\n",
       "11  Overcast   True\n",
       "12  Overcast   True\n",
       "13     Sunny  False"
      ]
     },
     "execution_count": 8,
     "metadata": {},
     "output_type": "execute_result"
    }
   ],
   "source": [
    "golf[['outlook', 'golf']]"
   ]
  },
  {
   "cell_type": "markdown",
   "metadata": {},
   "source": [
    "*Gain* is the the amount of information gained after dividing a subset. \n",
    "\n",
    "The golf table above is our main data set, also know as *S*. Each column header of the table is an *attribute*. Each piece of data within the column is a *attribute value*. Each column can have a different value, depending on what kind of information is given for each attribute. The *target*, sometimes referred as a *label*, is the decision we're ultimately trying to make. Our main data and all of the subsets will be used to make this decision. For our data above:\n",
    "\n",
    "**golf** is the whole data set, ak *S*\n",
    "**'outlook'** is an *attribute*\n",
    "**'Rainy, Overcast,** and **Sunny** are *attribute values*\n",
    "**'golf'** is the *target* or *label*, as we're trying to predict whether someone will golf given these conditions.\n",
    "\n",
    "\n",
    "\n",
    "\n",
    "$Gainentropy(target) - (probability of class_1 within subset) * entropy(proportion of target classes within class of subset) - (probability of class_2 within subset) * entropy(proportion of target classes within subset) "
   ]
  },
  {
   "cell_type": "code",
   "execution_count": 9,
   "metadata": {
    "scrolled": true
   },
   "outputs": [
    {
     "data": {
      "text/plain": [
       "[array([ 0.64285714,  0.35714286]),\n",
       " array([ 0.5,  0.5]),\n",
       " array([ 0.35714286,  0.35714286,  0.28571429]),\n",
       " array([ 0.42857143,  0.28571429,  0.28571429]),\n",
       " array([ 0.57142857,  0.42857143])]"
      ]
     },
     "execution_count": 9,
     "metadata": {},
     "output_type": "execute_result"
    }
   ],
   "source": [
    "probs = class_probabilities(golf)\n",
    "probs"
   ]
  },
  {
   "cell_type": "code",
   "execution_count": 10,
   "metadata": {
    "collapsed": true
   },
   "outputs": [],
   "source": [
    "    def entropy(probabilities):\n",
    "        \"\"\"Given a probability, calculate class probabilities \n",
    "        for a given attribute.\n",
    "        \"\"\"\n",
    "        return sum(-p * np.log2(p) for p in probabilities if p)\n"
   ]
  },
  {
   "cell_type": "code",
   "execution_count": 11,
   "metadata": {},
   "outputs": [
    {
     "data": {
      "text/plain": [
       "[0.94028595867063114,\n",
       " 1.0,\n",
       " 1.5774062828523454,\n",
       " 1.5566567074628228,\n",
       " 0.98522813603425152]"
      ]
     },
     "execution_count": 11,
     "metadata": {},
     "output_type": "execute_result"
    }
   ],
   "source": [
    "[entropy(prob) for prob in probs]"
   ]
  },
  {
   "cell_type": "code",
   "execution_count": 12,
   "metadata": {},
   "outputs": [],
   "source": [
    "probability_golf_rainy = (golf['golf'].where(golf['outlook'] == 'Rainy')\n",
    "                                      .value_counts(normalize=True))\n",
    "probability_golf_overcast = (golf['golf'].where(golf['outlook'] == 'Overcast')\n",
    "                                         .value_counts(normalize=True))\n",
    "probability_golf_sunny = (golf['golf'].where(golf['outlook'] == 'Sunny')\n",
    "                                      .value_counts(normalize=True))"
   ]
  },
  {
   "cell_type": "code",
   "execution_count": 13,
   "metadata": {
    "collapsed": true
   },
   "outputs": [],
   "source": [
    "    def class_probabilities(data, column, target=None):\n",
    "        \"\"\"Calculate the proportions of classes within a column\n",
    "        to the length of the entire data set.\n",
    "        \"\"\"\n",
    "        if not target:\n",
    "            return data[column].value_counts(normalize=True)\n",
    "        classes = data[column].unique()\n",
    "        return [data[target]\n",
    "                .where(data[column] == one_class)\n",
    "                .value_counts(normalize=True)\n",
    "                for one_class in classes\n",
    "                if not column == target]\n"
   ]
  },
  {
   "cell_type": "code",
   "execution_count": 14,
   "metadata": {
    "scrolled": true
   },
   "outputs": [
    {
     "data": {
      "text/plain": [
       "[[],\n",
       " [{0.0: 0.5714285714285714, 1.0: 0.42857142857142855},\n",
       "  {0.0: 0.14285714285714285, 1.0: 0.8571428571428571}],\n",
       " [{0.0: 0.59999999999999998, 1.0: 0.40000000000000002},\n",
       "  {1.0: 1.0},\n",
       "  {0.0: 0.40000000000000002, 1.0: 0.59999999999999998}],\n",
       " [{0.0: 0.5, 1.0: 0.5},\n",
       "  {0.0: 0.33333333333333331, 1.0: 0.66666666666666663},\n",
       "  {0.0: 0.25, 1.0: 0.75}],\n",
       " [{0.0: 0.25, 1.0: 0.75}, {0.0: 0.5, 1.0: 0.5}]]"
      ]
     },
     "execution_count": 14,
     "metadata": {},
     "output_type": "execute_result"
    }
   ],
   "source": [
    "arrays = class_probabilities(golf, 'outlook', 'golf')\n",
    "\n",
    "results = [class_probabilities(golf, column, 'golf') for column in golf]\n",
    "[[item.to_dict() for item in result] for result in results]"
   ]
  },
  {
   "cell_type": "code",
   "execution_count": null,
   "metadata": {
    "scrolled": true
   },
   "outputs": [],
   "source": []
  },
  {
   "cell_type": "code",
   "execution_count": 15,
   "metadata": {},
   "outputs": [],
   "source": [
    "entropy_of_target = entropy(probs[0])  #  Essentially the entropy of the entire data set"
   ]
  },
  {
   "cell_type": "code",
   "execution_count": 16,
   "metadata": {},
   "outputs": [],
   "source": [
    "# Outlook\n",
    "probability_rainy = probs[2][0]\n",
    "probability_sunny = probs[2][1]\n",
    "probability_overcast = probs[2][2]\n"
   ]
  },
  {
   "cell_type": "code",
   "execution_count": 17,
   "metadata": {},
   "outputs": [],
   "source": [
    "weighted_entropy_rainy = probability_rainy * entropy(probability_golf_rainy)"
   ]
  },
  {
   "cell_type": "code",
   "execution_count": 18,
   "metadata": {
    "collapsed": true
   },
   "outputs": [],
   "source": [
    "weighted_entropy_sunny = probability_sunny * entropy(probability_golf_sunny)"
   ]
  },
  {
   "cell_type": "code",
   "execution_count": 19,
   "metadata": {},
   "outputs": [
    {
     "data": {
      "text/plain": [
       "0.34676806944809591"
      ]
     },
     "execution_count": 19,
     "metadata": {},
     "output_type": "execute_result"
    }
   ],
   "source": [
    "weighted_entropy_sunny"
   ]
  },
  {
   "cell_type": "code",
   "execution_count": 20,
   "metadata": {
    "collapsed": true
   },
   "outputs": [],
   "source": [
    "weighted_entropy_overcast = probability_overcast * entropy(probability_golf_overcast)"
   ]
  },
  {
   "cell_type": "code",
   "execution_count": 21,
   "metadata": {},
   "outputs": [
    {
     "data": {
      "text/plain": [
       "0.0"
      ]
     },
     "execution_count": 21,
     "metadata": {},
     "output_type": "execute_result"
    }
   ],
   "source": [
    "weighted_entropy_overcast"
   ]
  },
  {
   "cell_type": "code",
   "execution_count": 22,
   "metadata": {},
   "outputs": [],
   "source": [
    "gain = (entropy_of_target -\n",
    "        weighted_entropy_overcast -\n",
    "        weighted_entropy_rainy -\n",
    "        weighted_entropy_sunny)"
   ]
  },
  {
   "cell_type": "code",
   "execution_count": 23,
   "metadata": {},
   "outputs": [
    {
     "data": {
      "text/plain": [
       "0.24674981977443933"
      ]
     },
     "execution_count": 23,
     "metadata": {},
     "output_type": "execute_result"
    }
   ],
   "source": [
    "gain"
   ]
  },
  {
   "cell_type": "code",
   "execution_count": 31,
   "metadata": {
    "scrolled": true
   },
   "outputs": [
    {
     "ename": "SyntaxError",
     "evalue": "invalid syntax (<ipython-input-31-c1f2b8ebc441>, line 1)",
     "output_type": "error",
     "traceback": [
      "\u001b[1;36m  File \u001b[1;32m\"<ipython-input-31-c1f2b8ebc441>\"\u001b[1;36m, line \u001b[1;32m1\u001b[0m\n\u001b[1;33m    import notebooks..\u001b[0m\n\u001b[1;37m                     ^\u001b[0m\n\u001b[1;31mSyntaxError\u001b[0m\u001b[1;31m:\u001b[0m invalid syntax\n"
     ]
    }
   ],
   "source": []
  },
  {
   "cell_type": "code",
   "execution_count": null,
   "metadata": {
    "collapsed": true
   },
   "outputs": [],
   "source": []
  }
 ],
 "metadata": {
  "kernelspec": {
   "display_name": "Python 3",
   "language": "python",
   "name": "python3"
  },
  "language_info": {
   "codemirror_mode": {
    "name": "ipython",
    "version": 3
   },
   "file_extension": ".py",
   "mimetype": "text/x-python",
   "name": "python",
   "nbconvert_exporter": "python",
   "pygments_lexer": "ipython3",
   "version": "3.6.1"
  }
 },
 "nbformat": 4,
 "nbformat_minor": 2
}
