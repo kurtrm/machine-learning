{
 "cells": [
  {
   "cell_type": "code",
   "execution_count": 1,
   "metadata": {
    "collapsed": true
   },
   "outputs": [],
   "source": [
    "import numpy as np\n",
    "import pandas as pd\n",
    "import matplotlib.pyplot as plt"
   ]
  },
  {
   "cell_type": "markdown",
   "metadata": {},
   "source": [
    "Some notes on my terminology:\n",
    "\n",
    "- A probability is the proportion of a given column label to the total number of columns."
   ]
  },
  {
   "cell_type": "code",
   "execution_count": 76,
   "metadata": {
    "collapsed": true
   },
   "outputs": [],
   "source": [
    "def entropy(probabilities):\n",
    "    \n",
    "    p = probabilities\n",
    "    entropy = sum(-p * np.log2(p) for p in probabilities if p)\n",
    "    return entropy\n",
    "    "
   ]
  },
  {
   "cell_type": "code",
   "execution_count": 66,
   "metadata": {
    "collapsed": true
   },
   "outputs": [],
   "source": [
    "# def entropy(probabilities):\n",
    "#     \"\"\"Return the entropy for a given class.\"\"\"\n",
    "#     return [-p[0] * np.log2(p[0]) - (p[1]) * np.log2(p[1]) for p in probabilities]"
   ]
  },
  {
   "cell_type": "code",
   "execution_count": 79,
   "metadata": {
    "collapsed": true
   },
   "outputs": [],
   "source": [
    "def class_probabilities(table):\n",
    "    \"\"\"Returns the p for each column\"\"\"\n",
    "    return [table[column].value_counts(normalize=True).values for column in table]\n",
    "    "
   ]
  },
  {
   "cell_type": "code",
   "execution_count": 82,
   "metadata": {
    "collapsed": false
   },
   "outputs": [
    {
     "data": {
      "image/png": "[encoded data removed]",
      "text/plain": [
       "<matplotlib.figure.Figure at 0x7f4f7e956c50>"
      ]
     },
     "metadata": {},
     "output_type": "display_data"
    }
   ],
   "source": [
    "x = np.linspace(0.001, 0.999)\n",
    "y = -x * np.log2(x) - (1 - x) * np.log2(1 - x)\n",
    "plt.plot(x, y)\n",
    "plt.show()"
   ]
  },
  {
   "cell_type": "markdown",
   "metadata": {},
   "source": [
    "The following list of dictionaries is a common data set used in the explanation of decision trees and the ID3 algorithm."
   ]
  },
  {
   "cell_type": "code",
   "execution_count": 84,
   "metadata": {
    "collapsed": false
   },
   "outputs": [],
   "source": [
    "golf = [{\"outlook\": \"Rainy\", \"temp\": \"Hot\", \"humidity\": \"High\", \"windy\": False, \"golf\": False},\n",
    " {\"outlook\": \"Rainy\", \"temp\": \"Hot\", \"humidity\": \"High\", \"windy\": True, \"golf\": False},\n",
    " {\"outlook\": \"Overcast\", \"temp\": \"Hot\", \"humidity\": \"High\", \"windy\": False, \"golf\": True},\n",
    " {\"outlook\": \"Sunny\", \"temp\": \"mild\", \"humidity\": \"High\", \"windy\": False, \"golf\": True},\n",
    " {\"outlook\": \"Sunny\", \"temp\": \"Cool\", \"humidity\": \"Normal\", \"windy\": False, \"golf\": True},\n",
    " {\"outlook\": \"Sunny\", \"temp\": \"Cool\", \"humidity\": \"Normal\", \"windy\": True, \"golf\": False},\n",
    " {\"outlook\": \"Overcast\", \"temp\": \"Cool\", \"humidity\": \"Normal\", \"windy\": True, \"golf\": True},\n",
    " {\"outlook\": \"Rainy\", \"temp\": \"mild\", \"humidity\": \"High\", \"windy\": False, \"golf\": False},\n",
    " {\"outlook\": \"Rainy\", \"temp\": \"Cool\", \"humidity\": \"Normal\", \"windy\": False, \"golf\": True},\n",
    " {\"outlook\": \"Sunny\", \"temp\": \"mild\", \"humidity\": \"Normal\", \"windy\": False, \"golf\": True},\n",
    " {\"outlook\": \"Rainy\", \"temp\": \"mild\", \"humidity\": \"Normal\", \"windy\": True, \"golf\": True},\n",
    " {\"outlook\": \"Overcast\", \"temp\": \"mild\", \"humidity\": \"High\", \"windy\": True, \"golf\": True},\n",
    " {\"outlook\": \"Overcast\", \"temp\": \"Hot\", \"humidity\": \"Normal\", \"windy\": False, \"golf\": True},\n",
    " {\"outlook\": \"Sunny\", \"temp\": \"mild\", \"humidity\": \"High\", \"windy\": True, \"golf\": False}\n",
    "]\n",
    "\n",
    "golf = pd.DataFrame(golf)"
   ]
  },
  {
   "cell_type": "code",
   "execution_count": 85,
   "metadata": {
    "collapsed": false,
    "scrolled": true
   },
   "outputs": [
    {
     "data": {
      "text/html": [
       "<div>\n",
       "<table border=\"1\" class=\"dataframe\">\n",
       "  <thead>\n",
       "    <tr style=\"text-align: right;\">\n",
       "      <th></th>\n",
       "      <th>golf</th>\n",
       "      <th>humidity</th>\n",
       "      <th>outlook</th>\n",
       "      <th>temp</th>\n",
       "      <th>windy</th>\n",
       "    </tr>\n",
       "  </thead>\n",
       "  <tbody>\n",
       "    <tr>\n",
       "      <th>0</th>\n",
       "      <td>False</td>\n",
       "      <td>High</td>\n",
       "      <td>Rainy</td>\n",
       "      <td>Hot</td>\n",
       "      <td>False</td>\n",
       "    </tr>\n",
       "    <tr>\n",
       "      <th>1</th>\n",
       "      <td>False</td>\n",
       "      <td>High</td>\n",
       "      <td>Rainy</td>\n",
       "      <td>Hot</td>\n",
       "      <td>True</td>\n",
       "    </tr>\n",
       "    <tr>\n",
       "      <th>2</th>\n",
       "      <td>True</td>\n",
       "      <td>High</td>\n",
       "      <td>Overcast</td>\n",
       "      <td>Hot</td>\n",
       "      <td>False</td>\n",
       "    </tr>\n",
       "    <tr>\n",
       "      <th>3</th>\n",
       "      <td>True</td>\n",
       "      <td>High</td>\n",
       "      <td>Sunny</td>\n",
       "      <td>mild</td>\n",
       "      <td>False</td>\n",
       "    </tr>\n",
       "    <tr>\n",
       "      <th>4</th>\n",
       "      <td>True</td>\n",
       "      <td>Normal</td>\n",
       "      <td>Sunny</td>\n",
       "      <td>Cool</td>\n",
       "      <td>False</td>\n",
       "    </tr>\n",
       "    <tr>\n",
       "      <th>5</th>\n",
       "      <td>False</td>\n",
       "      <td>Normal</td>\n",
       "      <td>Sunny</td>\n",
       "      <td>Cool</td>\n",
       "      <td>True</td>\n",
       "    </tr>\n",
       "    <tr>\n",
       "      <th>6</th>\n",
       "      <td>True</td>\n",
       "      <td>Normal</td>\n",
       "      <td>Overcast</td>\n",
       "      <td>Cool</td>\n",
       "      <td>True</td>\n",
       "    </tr>\n",
       "    <tr>\n",
       "      <th>7</th>\n",
       "      <td>False</td>\n",
       "      <td>High</td>\n",
       "      <td>Rainy</td>\n",
       "      <td>mild</td>\n",
       "      <td>False</td>\n",
       "    </tr>\n",
       "    <tr>\n",
       "      <th>8</th>\n",
       "      <td>True</td>\n",
       "      <td>Normal</td>\n",
       "      <td>Rainy</td>\n",
       "      <td>Cool</td>\n",
       "      <td>False</td>\n",
       "    </tr>\n",
       "    <tr>\n",
       "      <th>9</th>\n",
       "      <td>True</td>\n",
       "      <td>Normal</td>\n",
       "      <td>Sunny</td>\n",
       "      <td>mild</td>\n",
       "      <td>False</td>\n",
       "    </tr>\n",
       "    <tr>\n",
       "      <th>10</th>\n",
       "      <td>True</td>\n",
       "      <td>Normal</td>\n",
       "      <td>Rainy</td>\n",
       "      <td>mild</td>\n",
       "      <td>True</td>\n",
       "    </tr>\n",
       "    <tr>\n",
       "      <th>11</th>\n",
       "      <td>True</td>\n",
       "      <td>High</td>\n",
       "      <td>Overcast</td>\n",
       "      <td>mild</td>\n",
       "      <td>True</td>\n",
       "    </tr>\n",
       "    <tr>\n",
       "      <th>12</th>\n",
       "      <td>True</td>\n",
       "      <td>Normal</td>\n",
       "      <td>Overcast</td>\n",
       "      <td>Hot</td>\n",
       "      <td>False</td>\n",
       "    </tr>\n",
       "    <tr>\n",
       "      <th>13</th>\n",
       "      <td>False</td>\n",
       "      <td>High</td>\n",
       "      <td>Sunny</td>\n",
       "      <td>mild</td>\n",
       "      <td>True</td>\n",
       "    </tr>\n",
       "  </tbody>\n",
       "</table>\n",
       "</div>"
      ],
      "text/plain": [
       "     golf humidity   outlook  temp  windy\n",
       "0   False     High     Rainy   Hot  False\n",
       "1   False     High     Rainy   Hot   True\n",
       "2    True     High  Overcast   Hot  False\n",
       "3    True     High     Sunny  mild  False\n",
       "4    True   Normal     Sunny  Cool  False\n",
       "5   False   Normal     Sunny  Cool   True\n",
       "6    True   Normal  Overcast  Cool   True\n",
       "7   False     High     Rainy  mild  False\n",
       "8    True   Normal     Rainy  Cool  False\n",
       "9    True   Normal     Sunny  mild  False\n",
       "10   True   Normal     Rainy  mild   True\n",
       "11   True     High  Overcast  mild   True\n",
       "12   True   Normal  Overcast   Hot  False\n",
       "13  False     High     Sunny  mild   True"
      ]
     },
     "execution_count": 85,
     "metadata": {},
     "output_type": "execute_result"
    }
   ],
   "source": [
    "golf"
   ]
  },
  {
   "cell_type": "code",
   "execution_count": 110,
   "metadata": {
    "collapsed": false,
    "scrolled": true
   },
   "outputs": [
    {
     "data": {
      "text/html": [
       "<div>\n",
       "<table border=\"1\" class=\"dataframe\">\n",
       "  <thead>\n",
       "    <tr style=\"text-align: right;\">\n",
       "      <th></th>\n",
       "      <th>outlook</th>\n",
       "      <th>golf</th>\n",
       "    </tr>\n",
       "  </thead>\n",
       "  <tbody>\n",
       "    <tr>\n",
       "      <th>0</th>\n",
       "      <td>Rainy</td>\n",
       "      <td>False</td>\n",
       "    </tr>\n",
       "    <tr>\n",
       "      <th>1</th>\n",
       "      <td>Rainy</td>\n",
       "      <td>False</td>\n",
       "    </tr>\n",
       "    <tr>\n",
       "      <th>2</th>\n",
       "      <td>Overcast</td>\n",
       "      <td>True</td>\n",
       "    </tr>\n",
       "    <tr>\n",
       "      <th>3</th>\n",
       "      <td>Sunny</td>\n",
       "      <td>True</td>\n",
       "    </tr>\n",
       "    <tr>\n",
       "      <th>4</th>\n",
       "      <td>Sunny</td>\n",
       "      <td>True</td>\n",
       "    </tr>\n",
       "    <tr>\n",
       "      <th>5</th>\n",
       "      <td>Sunny</td>\n",
       "      <td>False</td>\n",
       "    </tr>\n",
       "    <tr>\n",
       "      <th>6</th>\n",
       "      <td>Overcast</td>\n",
       "      <td>True</td>\n",
       "    </tr>\n",
       "    <tr>\n",
       "      <th>7</th>\n",
       "      <td>Rainy</td>\n",
       "      <td>False</td>\n",
       "    </tr>\n",
       "    <tr>\n",
       "      <th>8</th>\n",
       "      <td>Rainy</td>\n",
       "      <td>True</td>\n",
       "    </tr>\n",
       "    <tr>\n",
       "      <th>9</th>\n",
       "      <td>Sunny</td>\n",
       "      <td>True</td>\n",
       "    </tr>\n",
       "    <tr>\n",
       "      <th>10</th>\n",
       "      <td>Rainy</td>\n",
       "      <td>True</td>\n",
       "    </tr>\n",
       "    <tr>\n",
       "      <th>11</th>\n",
       "      <td>Overcast</td>\n",
       "      <td>True</td>\n",
       "    </tr>\n",
       "    <tr>\n",
       "      <th>12</th>\n",
       "      <td>Overcast</td>\n",
       "      <td>True</td>\n",
       "    </tr>\n",
       "    <tr>\n",
       "      <th>13</th>\n",
       "      <td>Sunny</td>\n",
       "      <td>False</td>\n",
       "    </tr>\n",
       "  </tbody>\n",
       "</table>\n",
       "</div>"
      ],
      "text/plain": [
       "     outlook   golf\n",
       "0      Rainy  False\n",
       "1      Rainy  False\n",
       "2   Overcast   True\n",
       "3      Sunny   True\n",
       "4      Sunny   True\n",
       "5      Sunny  False\n",
       "6   Overcast   True\n",
       "7      Rainy  False\n",
       "8      Rainy   True\n",
       "9      Sunny   True\n",
       "10     Rainy   True\n",
       "11  Overcast   True\n",
       "12  Overcast   True\n",
       "13     Sunny  False"
      ]
     },
     "execution_count": 110,
     "metadata": {},
     "output_type": "execute_result"
    }
   ],
   "source": [
    "golf[['outlook', 'golf']]"
   ]
  },
  {
   "cell_type": "markdown",
   "metadata": {},
   "source": [
    "*Gain* is the the amount of information gained after dividing a subset. \n",
    "\n",
    "The golf table above is our main data set, also know as *S*. Each column header of the table is an *attribute*. Each piece of data within the column is a *class* (Since we're making a decision tree *class*ifier, it makes sense that each piece of data is a *class*). Each column can have a different class, depending on what kind of information is given for each attribute. The *target*, sometimes referred as a label, is the decision we're ultimately trying to make. Our main data and all of the subsets will be used to make this decision. For our data above:\n",
    "\n",
    "**golf** is the whole data set, ak *S*\n",
    "**'outlook'** is an *attribute*\n",
    "**'Rainy, Overcast,** and **Sunny** are *classes*\n",
    "**'golf'** is the *target*, as we're trying to predict whether someone will golf given these conditions.\n",
    "\n",
    "\n",
    "\n",
    "\n",
    "$Gainentropy(target) - (probability of class_1 within subset) * entropy(proportion of target classes within class of subset) - (probability of class_2 within subset) * entropy(proportion of target classes within subset) "
   ]
  },
  {
   "cell_type": "code",
   "execution_count": 86,
   "metadata": {
    "collapsed": false,
    "scrolled": true
   },
   "outputs": [
    {
     "data": {
      "text/plain": [
       "[array([ 0.64285714,  0.35714286]),\n",
       " array([ 0.5,  0.5]),\n",
       " array([ 0.35714286,  0.35714286,  0.28571429]),\n",
       " array([ 0.42857143,  0.28571429,  0.28571429]),\n",
       " array([ 0.57142857,  0.42857143])]"
      ]
     },
     "execution_count": 86,
     "metadata": {},
     "output_type": "execute_result"
    }
   ],
   "source": [
    "probs = class_probabilities(golf)\n",
    "probs"
   ]
  },
  {
   "cell_type": "code",
   "execution_count": 146,
   "metadata": {
    "collapsed": false
   },
   "outputs": [],
   "source": [
    "probability_golf_rainy = (golf['golf'].where(golf['outlook'] == 'Rainy')\n",
    "                                      .value_counts(normalize=True))\n",
    "probability_golf_overcast = (golf['golf'].where(golf['outlook'] == 'Overcast')\n",
    "                                         .value_counts(normalize=True))\n",
    "probability_golf_sunny = (golf['golf'].where(golf['outlook'] == 'Sunny')\n",
    "                                      .value_counts(normalize=True))"
   ]
  },
  {
   "cell_type": "code",
   "execution_count": 149,
   "metadata": {
    "collapsed": false
   },
   "outputs": [
    {
     "data": {
      "text/plain": [
       "0.0    0.6\n",
       "1.0    0.4\n",
       "Name: golf, dtype: float64"
      ]
     },
     "execution_count": 149,
     "metadata": {},
     "output_type": "execute_result"
    }
   ],
   "source": [
    "probability_golf_rainy"
   ]
  },
  {
   "cell_type": "code",
   "execution_count": 130,
   "metadata": {
    "collapsed": true
   },
   "outputs": [],
   "source": [
    "entropy_of_target = entropy(probs[0])  #  Essentially the entropy of the entire data set"
   ]
  },
  {
   "cell_type": "code",
   "execution_count": 131,
   "metadata": {
    "collapsed": false
   },
   "outputs": [],
   "source": [
    "# Outlook\n",
    "probability_rainy = probs[2][0]\n",
    "probability_sunny = probs[2][1]\n",
    "probability_overcast = probs[2][2]\n"
   ]
  },
  {
   "cell_type": "code",
   "execution_count": 154,
   "metadata": {
    "collapsed": false
   },
   "outputs": [],
   "source": [
    "weighted_entropy_rainy = probability_rainy * entropy(probability_golf_rainy)"
   ]
  },
  {
   "cell_type": "code",
   "execution_count": 155,
   "metadata": {
    "collapsed": true
   },
   "outputs": [],
   "source": [
    "weighted_entropy_sunny = probability_sunny * entropy(probability_golf_sunny)"
   ]
  },
  {
   "cell_type": "code",
   "execution_count": 156,
   "metadata": {
    "collapsed": false
   },
   "outputs": [
    {
     "data": {
      "text/plain": [
       "0.34676806944809591"
      ]
     },
     "execution_count": 156,
     "metadata": {},
     "output_type": "execute_result"
    }
   ],
   "source": [
    "weighted_entropy_sunny"
   ]
  },
  {
   "cell_type": "code",
   "execution_count": 157,
   "metadata": {
    "collapsed": true
   },
   "outputs": [],
   "source": [
    "weighted_entropy_overcast = probability_overcast * entropy(probability_golf_overcast)"
   ]
  },
  {
   "cell_type": "code",
   "execution_count": 158,
   "metadata": {
    "collapsed": false
   },
   "outputs": [
    {
     "data": {
      "text/plain": [
       "0.0"
      ]
     },
     "execution_count": 158,
     "metadata": {},
     "output_type": "execute_result"
    }
   ],
   "source": [
    "weighted_entropy_overcast"
   ]
  },
  {
   "cell_type": "code",
   "execution_count": 162,
   "metadata": {
    "collapsed": false
   },
   "outputs": [],
   "source": [
    "gain = (entropy_of_target -\n",
    "        weighted_entropy_overcast -\n",
    "        weighted_entropy_rainy -\n",
    "        weighted_entropy_sunny)"
   ]
  },
  {
   "cell_type": "code",
   "execution_count": 163,
   "metadata": {
    "collapsed": false
   },
   "outputs": [
    {
     "data": {
      "text/plain": [
       "0.24674981977443911"
      ]
     },
     "execution_count": 163,
     "metadata": {},
     "output_type": "execute_result"
    }
   ],
   "source": [
    "gain"
   ]
  },
  {
   "cell_type": "code",
   "execution_count": null,
   "metadata": {
    "collapsed": true
   },
   "outputs": [],
   "source": []
  }
 ],
 "metadata": {
  "kernelspec": {
   "display_name": "Python 3",
   "language": "python",
   "name": "python3"
  },
  "language_info": {
   "codemirror_mode": {
    "name": "ipython",
    "version": 3
   },
   "file_extension": ".py",
   "mimetype": "text/x-python",
   "name": "python",
   "nbconvert_exporter": "python",
   "pygments_lexer": "ipython3",
   "version": "3.6.1+"
  }
 },
 "nbformat": 4,
 "nbformat_minor": 2
}
